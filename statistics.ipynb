{
 "cells": [
  {
   "cell_type": "code",
   "execution_count": 22,
   "id": "9f2da74b",
   "metadata": {
    "ExecuteTime": {
     "end_time": "2021-11-05T19:27:19.602324Z",
     "start_time": "2021-11-05T19:27:19.549535Z"
    }
   },
   "outputs": [],
   "source": [
    "import os\n",
    "import numpy as np\n",
    "import pandas as pd\n",
    "from matplotlib import pyplot as plt\n",
    "\n",
    "%matplotlib widget\n",
    "%reload_ext autoreload\n",
    "%autoreload 2"
   ]
  },
  {
   "cell_type": "code",
   "execution_count": 2,
   "id": "a66dcc39",
   "metadata": {
    "ExecuteTime": {
     "end_time": "2021-11-05T10:38:20.404984Z",
     "start_time": "2021-11-05T10:38:20.377423Z"
    }
   },
   "outputs": [],
   "source": [
    "directory = './stat/'\n",
    "directories = ['baseline', 'dual', 'no_implied']"
   ]
  },
  {
   "cell_type": "code",
   "execution_count": 3,
   "id": "d3a44387",
   "metadata": {
    "ExecuteTime": {
     "end_time": "2021-11-05T10:38:20.699493Z",
     "start_time": "2021-11-05T10:38:20.629673Z"
    }
   },
   "outputs": [],
   "source": [
    "statistics = {}\n",
    "for stat in directories:\n",
    "    stat_directory = os.path.join(directory, stat)\n",
    "    times = {}\n",
    "    for filename in os.listdir(stat_directory):\n",
    "        filepath = os.path.join(stat_directory, filename)\n",
    "        data = ''\n",
    "        with open(filepath, 'r') as file:\n",
    "            data = [line.split(' ') for line in file.readlines()]\n",
    "        time = float(data[1][1])\n",
    "        times[filename.replace('.txt', '')] = time\n",
    "    statistics[stat] = times"
   ]
  },
  {
   "cell_type": "code",
   "execution_count": 4,
   "id": "261bc64d",
   "metadata": {
    "ExecuteTime": {
     "end_time": "2021-11-05T10:38:22.235817Z",
     "start_time": "2021-11-05T10:38:22.204872Z"
    }
   },
   "outputs": [],
   "source": [
    "df = pd.DataFrame(statistics).sort_index()"
   ]
  },
  {
   "cell_type": "code",
   "execution_count": 5,
   "id": "2af2f311",
   "metadata": {
    "ExecuteTime": {
     "end_time": "2021-11-05T10:38:22.883758Z",
     "start_time": "2021-11-05T10:38:22.753341Z"
    }
   },
   "outputs": [
    {
     "data": {
      "application/vnd.jupyter.widget-view+json": {
       "model_id": "8a65966a08594cd2816a175fd604cd18",
       "version_major": 2,
       "version_minor": 0
      },
      "text/plain": [
       "Canvas(toolbar=Toolbar(toolitems=[('Home', 'Reset original view', 'home', 'home'), ('Back', 'Back to previous …"
      ]
     },
     "metadata": {},
     "output_type": "display_data"
    },
    {
     "data": {
      "text/plain": [
       "<AxesSubplot:>"
      ]
     },
     "execution_count": 5,
     "metadata": {},
     "output_type": "execute_result"
    }
   ],
   "source": [
    "df.plot(logy=True)"
   ]
  },
  {
   "cell_type": "code",
   "execution_count": 13,
   "id": "68d04b87",
   "metadata": {
    "ExecuteTime": {
     "end_time": "2021-11-05T19:18:35.475247Z",
     "start_time": "2021-11-05T19:18:35.398709Z"
    }
   },
   "outputs": [],
   "source": [
    "directory = './mz/'\n",
    "for ch in [0,1,2,3]:\n",
    "    folder = os.path.join(directory, str(ch))\n",
    "    for filename in os.listdir(folder):\n",
    "        if filename.endswith('.txt'):\n",
    "            l = filename.replace('.txt','').split('_')\n",
    "            os.rename(os.path.join(folder, filename), os.path.join(folder, l[1], l[2], l[0]+'.txt'))"
   ]
  },
  {
   "cell_type": "code",
   "execution_count": 10,
   "id": "eb535da7",
   "metadata": {
    "ExecuteTime": {
     "end_time": "2021-11-05T19:16:07.422307Z",
     "start_time": "2021-11-05T19:16:07.396343Z"
    }
   },
   "outputs": [
    {
     "data": {
      "text/plain": [
       "['10x10', 'true', '1']"
      ]
     },
     "execution_count": 10,
     "metadata": {},
     "output_type": "execute_result"
    }
   ],
   "source": [
    "'10x10_true_1.txt'.replace('.txt','').split('_')"
   ]
  },
  {
   "cell_type": "code",
   "execution_count": 30,
   "id": "e66af887",
   "metadata": {
    "ExecuteTime": {
     "end_time": "2021-11-05T19:29:17.679747Z",
     "start_time": "2021-11-05T19:29:17.633598Z"
    }
   },
   "outputs": [],
   "source": [
    "start = '%%%mzn-stat: solveTime='"
   ]
  },
  {
   "cell_type": "code",
   "execution_count": 34,
   "id": "dd49ef31",
   "metadata": {
    "ExecuteTime": {
     "end_time": "2021-11-05T19:30:02.348180Z",
     "start_time": "2021-11-05T19:30:02.279851Z"
    }
   },
   "outputs": [],
   "source": [
    "directory = './mz/'\n",
    "mz_statistics = {}\n",
    "for ch in [0,1,2,3]:\n",
    "    folder = os.path.join(directory, str(ch))\n",
    "    mz_statistics[str(ch)] = {}\n",
    "    for sub in os.listdir(folder):\n",
    "        sub_folder = os.path.join(folder, sub)\n",
    "        mz_statistics[str(ch)][sub] = {}\n",
    "        for subsub in os.listdir(sub_folder):\n",
    "            subsub_folder = os.path.join(sub_folder, subsub)\n",
    "            mz_statistics[str(ch)][sub][subsub] = {}\n",
    "            for filename in os.listdir(subsub_folder):\n",
    "                filepath = os.path.join(subsub_folder, filename)\n",
    "                with open(filepath, 'r') as file:\n",
    "                    data = np.array(file.readlines())\n",
    "                time = float(data[[i.startswith(start) for i in data]][0].replace(start, '').replace('\\n',''))\n",
    "                mz_statistics[str(ch)][sub][subsub][filename] = time"
   ]
  },
  {
   "cell_type": "code",
   "execution_count": 44,
   "id": "9e0a52d5",
   "metadata": {
    "ExecuteTime": {
     "end_time": "2021-11-05T19:35:19.502196Z",
     "start_time": "2021-11-05T19:35:19.440725Z"
    }
   },
   "outputs": [
    {
     "data": {
      "text/html": [
       "<div>\n",
       "<style scoped>\n",
       "    .dataframe tbody tr th:only-of-type {\n",
       "        vertical-align: middle;\n",
       "    }\n",
       "\n",
       "    .dataframe tbody tr th {\n",
       "        vertical-align: top;\n",
       "    }\n",
       "\n",
       "    .dataframe thead th {\n",
       "        text-align: right;\n",
       "    }\n",
       "</style>\n",
       "<table border=\"1\" class=\"dataframe\">\n",
       "  <thead>\n",
       "    <tr style=\"text-align: right;\">\n",
       "      <th></th>\n",
       "      <th></th>\n",
       "      <th>0</th>\n",
       "      <th>1</th>\n",
       "      <th>2</th>\n",
       "    </tr>\n",
       "  </thead>\n",
       "  <tbody>\n",
       "    <tr>\n",
       "      <th rowspan=\"8\" valign=\"top\">0</th>\n",
       "      <th>8x8.txt</th>\n",
       "      <td>0.000717</td>\n",
       "      <td>0.006701</td>\n",
       "      <td>0.005923</td>\n",
       "    </tr>\n",
       "    <tr>\n",
       "      <th>10x10.txt</th>\n",
       "      <td>0.000879</td>\n",
       "      <td>0.007951</td>\n",
       "      <td>0.009041</td>\n",
       "    </tr>\n",
       "    <tr>\n",
       "      <th>12x12.txt</th>\n",
       "      <td>0.044247</td>\n",
       "      <td>0.009859</td>\n",
       "      <td>0.112216</td>\n",
       "    </tr>\n",
       "    <tr>\n",
       "      <th>14x14.txt</th>\n",
       "      <td>0.225888</td>\n",
       "      <td>0.129038</td>\n",
       "      <td>0.069365</td>\n",
       "    </tr>\n",
       "    <tr>\n",
       "      <th>9x9.txt</th>\n",
       "      <td>0.000517</td>\n",
       "      <td>0.006655</td>\n",
       "      <td>0.007314</td>\n",
       "    </tr>\n",
       "    <tr>\n",
       "      <th>11x11.txt</th>\n",
       "      <td>0.017811</td>\n",
       "      <td>0.100293</td>\n",
       "      <td>0.063780</td>\n",
       "    </tr>\n",
       "    <tr>\n",
       "      <th>13x13.txt</th>\n",
       "      <td>16.185300</td>\n",
       "      <td>2.503730</td>\n",
       "      <td>0.176080</td>\n",
       "    </tr>\n",
       "    <tr>\n",
       "      <th>15x15.txt</th>\n",
       "      <td>0.411937</td>\n",
       "      <td>2.624260</td>\n",
       "      <td>1.836760</td>\n",
       "    </tr>\n",
       "    <tr>\n",
       "      <th rowspan=\"8\" valign=\"top\">1</th>\n",
       "      <th>8x8.txt</th>\n",
       "      <td>0.000335</td>\n",
       "      <td>0.000473</td>\n",
       "      <td>0.000409</td>\n",
       "    </tr>\n",
       "    <tr>\n",
       "      <th>10x10.txt</th>\n",
       "      <td>0.000735</td>\n",
       "      <td>0.007638</td>\n",
       "      <td>0.007318</td>\n",
       "    </tr>\n",
       "    <tr>\n",
       "      <th>12x12.txt</th>\n",
       "      <td>0.101118</td>\n",
       "      <td>0.843073</td>\n",
       "      <td>0.571895</td>\n",
       "    </tr>\n",
       "    <tr>\n",
       "      <th>14x14.txt</th>\n",
       "      <td>0.055619</td>\n",
       "      <td>0.573745</td>\n",
       "      <td>0.408035</td>\n",
       "    </tr>\n",
       "    <tr>\n",
       "      <th>9x9.txt</th>\n",
       "      <td>0.000485</td>\n",
       "      <td>0.007696</td>\n",
       "      <td>0.006482</td>\n",
       "    </tr>\n",
       "    <tr>\n",
       "      <th>11x11.txt</th>\n",
       "      <td>0.019224</td>\n",
       "      <td>0.373365</td>\n",
       "      <td>0.489565</td>\n",
       "    </tr>\n",
       "    <tr>\n",
       "      <th>13x13.txt</th>\n",
       "      <td>0.347395</td>\n",
       "      <td>5.748760</td>\n",
       "      <td>3.373030</td>\n",
       "    </tr>\n",
       "    <tr>\n",
       "      <th>15x15.txt</th>\n",
       "      <td>0.418649</td>\n",
       "      <td>13.897800</td>\n",
       "      <td>4.923090</td>\n",
       "    </tr>\n",
       "    <tr>\n",
       "      <th rowspan=\"8\" valign=\"top\">2</th>\n",
       "      <th>8x8.txt</th>\n",
       "      <td>0.000390</td>\n",
       "      <td>0.000356</td>\n",
       "      <td>0.000416</td>\n",
       "    </tr>\n",
       "    <tr>\n",
       "      <th>10x10.txt</th>\n",
       "      <td>0.000395</td>\n",
       "      <td>0.000409</td>\n",
       "      <td>0.000952</td>\n",
       "    </tr>\n",
       "    <tr>\n",
       "      <th>12x12.txt</th>\n",
       "      <td>0.035699</td>\n",
       "      <td>0.034940</td>\n",
       "      <td>0.055503</td>\n",
       "    </tr>\n",
       "    <tr>\n",
       "      <th>14x14.txt</th>\n",
       "      <td>2.091500</td>\n",
       "      <td>0.041561</td>\n",
       "      <td>0.403116</td>\n",
       "    </tr>\n",
       "    <tr>\n",
       "      <th>9x9.txt</th>\n",
       "      <td>0.000401</td>\n",
       "      <td>0.000408</td>\n",
       "      <td>0.000365</td>\n",
       "    </tr>\n",
       "    <tr>\n",
       "      <th>11x11.txt</th>\n",
       "      <td>0.105884</td>\n",
       "      <td>0.032798</td>\n",
       "      <td>0.118006</td>\n",
       "    </tr>\n",
       "    <tr>\n",
       "      <th>13x13.txt</th>\n",
       "      <td>0.954610</td>\n",
       "      <td>10.768800</td>\n",
       "      <td>30.997700</td>\n",
       "    </tr>\n",
       "    <tr>\n",
       "      <th>15x15.txt</th>\n",
       "      <td>5.324630</td>\n",
       "      <td>0.120539</td>\n",
       "      <td>0.554676</td>\n",
       "    </tr>\n",
       "    <tr>\n",
       "      <th rowspan=\"8\" valign=\"top\">3</th>\n",
       "      <th>8x8.txt</th>\n",
       "      <td>0.000516</td>\n",
       "      <td>0.000402</td>\n",
       "      <td>0.000396</td>\n",
       "    </tr>\n",
       "    <tr>\n",
       "      <th>10x10.txt</th>\n",
       "      <td>0.000601</td>\n",
       "      <td>0.007077</td>\n",
       "      <td>0.007709</td>\n",
       "    </tr>\n",
       "    <tr>\n",
       "      <th>12x12.txt</th>\n",
       "      <td>0.010710</td>\n",
       "      <td>0.102630</td>\n",
       "      <td>0.111483</td>\n",
       "    </tr>\n",
       "    <tr>\n",
       "      <th>14x14.txt</th>\n",
       "      <td>0.066219</td>\n",
       "      <td>0.539490</td>\n",
       "      <td>0.353072</td>\n",
       "    </tr>\n",
       "    <tr>\n",
       "      <th>9x9.txt</th>\n",
       "      <td>0.000403</td>\n",
       "      <td>0.006372</td>\n",
       "      <td>0.007746</td>\n",
       "    </tr>\n",
       "    <tr>\n",
       "      <th>11x11.txt</th>\n",
       "      <td>0.002196</td>\n",
       "      <td>0.017263</td>\n",
       "      <td>0.042135</td>\n",
       "    </tr>\n",
       "    <tr>\n",
       "      <th>13x13.txt</th>\n",
       "      <td>10.247300</td>\n",
       "      <td>1252.610000</td>\n",
       "      <td>110.388000</td>\n",
       "    </tr>\n",
       "    <tr>\n",
       "      <th>15x15.txt</th>\n",
       "      <td>0.001331</td>\n",
       "      <td>0.010334</td>\n",
       "      <td>0.017532</td>\n",
       "    </tr>\n",
       "  </tbody>\n",
       "</table>\n",
       "</div>"
      ],
      "text/plain": [
       "                     0            1           2\n",
       "0 8x8.txt     0.000717     0.006701    0.005923\n",
       "  10x10.txt   0.000879     0.007951    0.009041\n",
       "  12x12.txt   0.044247     0.009859    0.112216\n",
       "  14x14.txt   0.225888     0.129038    0.069365\n",
       "  9x9.txt     0.000517     0.006655    0.007314\n",
       "  11x11.txt   0.017811     0.100293    0.063780\n",
       "  13x13.txt  16.185300     2.503730    0.176080\n",
       "  15x15.txt   0.411937     2.624260    1.836760\n",
       "1 8x8.txt     0.000335     0.000473    0.000409\n",
       "  10x10.txt   0.000735     0.007638    0.007318\n",
       "  12x12.txt   0.101118     0.843073    0.571895\n",
       "  14x14.txt   0.055619     0.573745    0.408035\n",
       "  9x9.txt     0.000485     0.007696    0.006482\n",
       "  11x11.txt   0.019224     0.373365    0.489565\n",
       "  13x13.txt   0.347395     5.748760    3.373030\n",
       "  15x15.txt   0.418649    13.897800    4.923090\n",
       "2 8x8.txt     0.000390     0.000356    0.000416\n",
       "  10x10.txt   0.000395     0.000409    0.000952\n",
       "  12x12.txt   0.035699     0.034940    0.055503\n",
       "  14x14.txt   2.091500     0.041561    0.403116\n",
       "  9x9.txt     0.000401     0.000408    0.000365\n",
       "  11x11.txt   0.105884     0.032798    0.118006\n",
       "  13x13.txt   0.954610    10.768800   30.997700\n",
       "  15x15.txt   5.324630     0.120539    0.554676\n",
       "3 8x8.txt     0.000516     0.000402    0.000396\n",
       "  10x10.txt   0.000601     0.007077    0.007709\n",
       "  12x12.txt   0.010710     0.102630    0.111483\n",
       "  14x14.txt   0.066219     0.539490    0.353072\n",
       "  9x9.txt     0.000403     0.006372    0.007746\n",
       "  11x11.txt   0.002196     0.017263    0.042135\n",
       "  13x13.txt  10.247300  1252.610000  110.388000\n",
       "  15x15.txt   0.001331     0.010334    0.017532"
      ]
     },
     "execution_count": 44,
     "metadata": {},
     "output_type": "execute_result"
    }
   ],
   "source": [
    "pd.concat([pd.DataFrame(mz_statistics[str(ch)][sub]) for ch in [0,1,2,3] for sub in ['false', 'true']], keys=['0', '1', '2', '3'])"
   ]
  },
  {
   "cell_type": "code",
   "execution_count": null,
   "id": "a70caebe",
   "metadata": {},
   "outputs": [],
   "source": [
    "pd.concat()"
   ]
  }
 ],
 "metadata": {
  "kernelspec": {
   "display_name": "Python [conda env:root] *",
   "language": "python",
   "name": "conda-root-py"
  },
  "language_info": {
   "codemirror_mode": {
    "name": "ipython",
    "version": 3
   },
   "file_extension": ".py",
   "mimetype": "text/x-python",
   "name": "python",
   "nbconvert_exporter": "python",
   "pygments_lexer": "ipython3",
   "version": "3.8.8"
  },
  "toc": {
   "base_numbering": 1,
   "nav_menu": {},
   "number_sections": true,
   "sideBar": true,
   "skip_h1_title": false,
   "title_cell": "Table of Contents",
   "title_sidebar": "Contents",
   "toc_cell": false,
   "toc_position": {},
   "toc_section_display": true,
   "toc_window_display": false
  },
  "varInspector": {
   "cols": {
    "lenName": 16,
    "lenType": 16,
    "lenVar": 40
   },
   "kernels_config": {
    "python": {
     "delete_cmd_postfix": "",
     "delete_cmd_prefix": "del ",
     "library": "var_list.py",
     "varRefreshCmd": "print(var_dic_list())"
    },
    "r": {
     "delete_cmd_postfix": ") ",
     "delete_cmd_prefix": "rm(",
     "library": "var_list.r",
     "varRefreshCmd": "cat(var_dic_list()) "
    }
   },
   "types_to_exclude": [
    "module",
    "function",
    "builtin_function_or_method",
    "instance",
    "_Feature"
   ],
   "window_display": false
  }
 },
 "nbformat": 4,
 "nbformat_minor": 5
}
